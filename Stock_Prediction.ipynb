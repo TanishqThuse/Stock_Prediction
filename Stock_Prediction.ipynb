{
  "cells": [
    {
      "cell_type": "markdown",
      "metadata": {
        "id": "view-in-github",
        "colab_type": "text"
      },
      "source": [
        "<a href=\"https://colab.research.google.com/github/TanishqThuse/Stock_Prediction/blob/main/Stock_Prediction.ipynb\" target=\"_parent\"><img src=\"https://colab.research.google.com/assets/colab-badge.svg\" alt=\"Open In Colab\"/></a>"
      ]
    },
    {
      "cell_type": "code",
      "execution_count": null,
      "metadata": {
        "id": "qHHzk7xUoJWb"
      },
      "outputs": [],
      "source": [
        "#below are mathematical calculations library\n",
        "import numpy as np\n",
        "import pandas as pd\n",
        "\n",
        "#importing yahoo finance stuff here\n",
        "import yfinance as yf\n",
        "\n",
        "#below are visualisation libraires\n",
        "import seaborn as sns\n",
        "import matplotlib.pyplot as plt\n",
        "%matplotlib inline"
      ]
    },
    {
      "cell_type": "code",
      "execution_count": null,
      "metadata": {
        "colab": {
          "base_uri": "https://localhost:8080/",
          "height": 379
        },
        "id": "BKa8bCayoxyi",
        "outputId": "fe2cc904-33c7-4264-8bfa-a59efbf40ff0"
      },
      "outputs": [
        {
          "name": "stdout",
          "output_type": "stream",
          "text": [
            "Enter the code of stock to download stock :- GC=F\n"
          ]
        },
        {
          "name": "stderr",
          "output_type": "stream",
          "text": [
            "\r[*********************100%%**********************]  1 of 1 completed\n"
          ]
        },
        {
          "data": {
            "application/vnd.google.colaboratory.intrinsic+json": {
              "summary": "{\n  \"name\": \"data\",\n  \"rows\": 4111,\n  \"fields\": [\n    {\n      \"column\": \"Date\",\n      \"properties\": {\n        \"dtype\": \"date\",\n        \"min\": \"2008-01-02 00:00:00\",\n        \"max\": \"2024-05-03 00:00:00\",\n        \"num_unique_values\": 4111,\n        \"samples\": [\n          \"2008-08-05 00:00:00\",\n          \"2008-08-28 00:00:00\",\n          \"2010-02-04 00:00:00\"\n        ],\n        \"semantic_type\": \"\",\n        \"description\": \"\"\n      }\n    },\n    {\n      \"column\": \"Open\",\n      \"properties\": {\n        \"dtype\": \"number\",\n        \"std\": 331.04612136127787,\n        \"min\": 705.0,\n        \"max\": 2384.199951171875,\n        \"num_unique_values\": 3321,\n        \"samples\": [\n          1618.300048828125,\n          1545.0,\n          1785.800048828125\n        ],\n        \"semantic_type\": \"\",\n        \"description\": \"\"\n      }\n    },\n    {\n      \"column\": \"High\",\n      \"properties\": {\n        \"dtype\": \"number\",\n        \"std\": 332.39350599131154,\n        \"min\": 715.5,\n        \"max\": 2429.0,\n        \"num_unique_values\": 3315,\n        \"samples\": [\n          1658.0,\n          1260.800048828125,\n          881.5\n        ],\n        \"semantic_type\": \"\",\n        \"description\": \"\"\n      }\n    },\n    {\n      \"column\": \"Low\",\n      \"properties\": {\n        \"dtype\": \"number\",\n        \"std\": 329.9299471303835,\n        \"min\": 681.0,\n        \"max\": 2377.300048828125,\n        \"num_unique_values\": 3312,\n        \"samples\": [\n          978.2000122070312,\n          1362.800048828125,\n          1235.5\n        ],\n        \"semantic_type\": \"\",\n        \"description\": \"\"\n      }\n    },\n    {\n      \"column\": \"Close\",\n      \"properties\": {\n        \"dtype\": \"number\",\n        \"std\": 331.16354030917034,\n        \"min\": 704.9000244140625,\n        \"max\": 2398.39990234375,\n        \"num_unique_values\": 3303,\n        \"samples\": [\n          949.0,\n          1403.5999755859375,\n          1377.5999755859375\n        ],\n        \"semantic_type\": \"\",\n        \"description\": \"\"\n      }\n    },\n    {\n      \"column\": \"Adj Close\",\n      \"properties\": {\n        \"dtype\": \"number\",\n        \"std\": 331.16354030917034,\n        \"min\": 704.9000244140625,\n        \"max\": 2398.39990234375,\n        \"num_unique_values\": 3303,\n        \"samples\": [\n          949.0,\n          1403.5999755859375,\n          1377.5999755859375\n        ],\n        \"semantic_type\": \"\",\n        \"description\": \"\"\n      }\n    },\n    {\n      \"column\": \"Volume\",\n      \"properties\": {\n        \"dtype\": \"number\",\n        \"std\": 28466,\n        \"min\": 0,\n        \"max\": 386334,\n        \"num_unique_values\": 1288,\n        \"samples\": [\n          762,\n          1623,\n          186986\n        ],\n        \"semantic_type\": \"\",\n        \"description\": \"\"\n      }\n    }\n  ]\n}",
              "type": "dataframe",
              "variable_name": "data"
            },
            "text/html": [
              "\n",
              "  <div id=\"df-f1a98503-4629-48e8-bc4d-01af41bea90d\" class=\"colab-df-container\">\n",
              "    <div>\n",
              "<style scoped>\n",
              "    .dataframe tbody tr th:only-of-type {\n",
              "        vertical-align: middle;\n",
              "    }\n",
              "\n",
              "    .dataframe tbody tr th {\n",
              "        vertical-align: top;\n",
              "    }\n",
              "\n",
              "    .dataframe thead th {\n",
              "        text-align: right;\n",
              "    }\n",
              "</style>\n",
              "<table border=\"1\" class=\"dataframe\">\n",
              "  <thead>\n",
              "    <tr style=\"text-align: right;\">\n",
              "      <th></th>\n",
              "      <th>Open</th>\n",
              "      <th>High</th>\n",
              "      <th>Low</th>\n",
              "      <th>Close</th>\n",
              "      <th>Adj Close</th>\n",
              "      <th>Volume</th>\n",
              "    </tr>\n",
              "    <tr>\n",
              "      <th>Date</th>\n",
              "      <th></th>\n",
              "      <th></th>\n",
              "      <th></th>\n",
              "      <th></th>\n",
              "      <th></th>\n",
              "      <th></th>\n",
              "    </tr>\n",
              "  </thead>\n",
              "  <tbody>\n",
              "    <tr>\n",
              "      <th>2008-01-02</th>\n",
              "      <td>848.700012</td>\n",
              "      <td>857.799988</td>\n",
              "      <td>846.400024</td>\n",
              "      <td>857.000000</td>\n",
              "      <td>857.000000</td>\n",
              "      <td>130</td>\n",
              "    </tr>\n",
              "    <tr>\n",
              "      <th>2008-01-03</th>\n",
              "      <td>863.000000</td>\n",
              "      <td>865.500000</td>\n",
              "      <td>856.299988</td>\n",
              "      <td>866.400024</td>\n",
              "      <td>866.400024</td>\n",
              "      <td>181</td>\n",
              "    </tr>\n",
              "    <tr>\n",
              "      <th>2008-01-04</th>\n",
              "      <td>861.400024</td>\n",
              "      <td>865.500000</td>\n",
              "      <td>860.200012</td>\n",
              "      <td>863.099976</td>\n",
              "      <td>863.099976</td>\n",
              "      <td>28</td>\n",
              "    </tr>\n",
              "    <tr>\n",
              "      <th>2008-01-07</th>\n",
              "      <td>860.900024</td>\n",
              "      <td>860.900024</td>\n",
              "      <td>857.400024</td>\n",
              "      <td>859.599976</td>\n",
              "      <td>859.599976</td>\n",
              "      <td>4</td>\n",
              "    </tr>\n",
              "    <tr>\n",
              "      <th>2008-01-08</th>\n",
              "      <td>861.599976</td>\n",
              "      <td>879.400024</td>\n",
              "      <td>861.599976</td>\n",
              "      <td>878.000000</td>\n",
              "      <td>878.000000</td>\n",
              "      <td>21</td>\n",
              "    </tr>\n",
              "  </tbody>\n",
              "</table>\n",
              "</div>\n",
              "    <div class=\"colab-df-buttons\">\n",
              "\n",
              "  <div class=\"colab-df-container\">\n",
              "    <button class=\"colab-df-convert\" onclick=\"convertToInteractive('df-f1a98503-4629-48e8-bc4d-01af41bea90d')\"\n",
              "            title=\"Convert this dataframe to an interactive table.\"\n",
              "            style=\"display:none;\">\n",
              "\n",
              "  <svg xmlns=\"http://www.w3.org/2000/svg\" height=\"24px\" viewBox=\"0 -960 960 960\">\n",
              "    <path d=\"M120-120v-720h720v720H120Zm60-500h600v-160H180v160Zm220 220h160v-160H400v160Zm0 220h160v-160H400v160ZM180-400h160v-160H180v160Zm440 0h160v-160H620v160ZM180-180h160v-160H180v160Zm440 0h160v-160H620v160Z\"/>\n",
              "  </svg>\n",
              "    </button>\n",
              "\n",
              "  <style>\n",
              "    .colab-df-container {\n",
              "      display:flex;\n",
              "      gap: 12px;\n",
              "    }\n",
              "\n",
              "    .colab-df-convert {\n",
              "      background-color: #E8F0FE;\n",
              "      border: none;\n",
              "      border-radius: 50%;\n",
              "      cursor: pointer;\n",
              "      display: none;\n",
              "      fill: #1967D2;\n",
              "      height: 32px;\n",
              "      padding: 0 0 0 0;\n",
              "      width: 32px;\n",
              "    }\n",
              "\n",
              "    .colab-df-convert:hover {\n",
              "      background-color: #E2EBFA;\n",
              "      box-shadow: 0px 1px 2px rgba(60, 64, 67, 0.3), 0px 1px 3px 1px rgba(60, 64, 67, 0.15);\n",
              "      fill: #174EA6;\n",
              "    }\n",
              "\n",
              "    .colab-df-buttons div {\n",
              "      margin-bottom: 4px;\n",
              "    }\n",
              "\n",
              "    [theme=dark] .colab-df-convert {\n",
              "      background-color: #3B4455;\n",
              "      fill: #D2E3FC;\n",
              "    }\n",
              "\n",
              "    [theme=dark] .colab-df-convert:hover {\n",
              "      background-color: #434B5C;\n",
              "      box-shadow: 0px 1px 3px 1px rgba(0, 0, 0, 0.15);\n",
              "      filter: drop-shadow(0px 1px 2px rgba(0, 0, 0, 0.3));\n",
              "      fill: #FFFFFF;\n",
              "    }\n",
              "  </style>\n",
              "\n",
              "    <script>\n",
              "      const buttonEl =\n",
              "        document.querySelector('#df-f1a98503-4629-48e8-bc4d-01af41bea90d button.colab-df-convert');\n",
              "      buttonEl.style.display =\n",
              "        google.colab.kernel.accessAllowed ? 'block' : 'none';\n",
              "\n",
              "      async function convertToInteractive(key) {\n",
              "        const element = document.querySelector('#df-f1a98503-4629-48e8-bc4d-01af41bea90d');\n",
              "        const dataTable =\n",
              "          await google.colab.kernel.invokeFunction('convertToInteractive',\n",
              "                                                    [key], {});\n",
              "        if (!dataTable) return;\n",
              "\n",
              "        const docLinkHtml = 'Like what you see? Visit the ' +\n",
              "          '<a target=\"_blank\" href=https://colab.research.google.com/notebooks/data_table.ipynb>data table notebook</a>'\n",
              "          + ' to learn more about interactive tables.';\n",
              "        element.innerHTML = '';\n",
              "        dataTable['output_type'] = 'display_data';\n",
              "        await google.colab.output.renderOutput(dataTable, element);\n",
              "        const docLink = document.createElement('div');\n",
              "        docLink.innerHTML = docLinkHtml;\n",
              "        element.appendChild(docLink);\n",
              "      }\n",
              "    </script>\n",
              "  </div>\n",
              "\n",
              "\n",
              "<div id=\"df-194342df-2718-49e0-aad8-1b48f173ce69\">\n",
              "  <button class=\"colab-df-quickchart\" onclick=\"quickchart('df-194342df-2718-49e0-aad8-1b48f173ce69')\"\n",
              "            title=\"Suggest charts\"\n",
              "            style=\"display:none;\">\n",
              "\n",
              "<svg xmlns=\"http://www.w3.org/2000/svg\" height=\"24px\"viewBox=\"0 0 24 24\"\n",
              "     width=\"24px\">\n",
              "    <g>\n",
              "        <path d=\"M19 3H5c-1.1 0-2 .9-2 2v14c0 1.1.9 2 2 2h14c1.1 0 2-.9 2-2V5c0-1.1-.9-2-2-2zM9 17H7v-7h2v7zm4 0h-2V7h2v10zm4 0h-2v-4h2v4z\"/>\n",
              "    </g>\n",
              "</svg>\n",
              "  </button>\n",
              "\n",
              "<style>\n",
              "  .colab-df-quickchart {\n",
              "      --bg-color: #E8F0FE;\n",
              "      --fill-color: #1967D2;\n",
              "      --hover-bg-color: #E2EBFA;\n",
              "      --hover-fill-color: #174EA6;\n",
              "      --disabled-fill-color: #AAA;\n",
              "      --disabled-bg-color: #DDD;\n",
              "  }\n",
              "\n",
              "  [theme=dark] .colab-df-quickchart {\n",
              "      --bg-color: #3B4455;\n",
              "      --fill-color: #D2E3FC;\n",
              "      --hover-bg-color: #434B5C;\n",
              "      --hover-fill-color: #FFFFFF;\n",
              "      --disabled-bg-color: #3B4455;\n",
              "      --disabled-fill-color: #666;\n",
              "  }\n",
              "\n",
              "  .colab-df-quickchart {\n",
              "    background-color: var(--bg-color);\n",
              "    border: none;\n",
              "    border-radius: 50%;\n",
              "    cursor: pointer;\n",
              "    display: none;\n",
              "    fill: var(--fill-color);\n",
              "    height: 32px;\n",
              "    padding: 0;\n",
              "    width: 32px;\n",
              "  }\n",
              "\n",
              "  .colab-df-quickchart:hover {\n",
              "    background-color: var(--hover-bg-color);\n",
              "    box-shadow: 0 1px 2px rgba(60, 64, 67, 0.3), 0 1px 3px 1px rgba(60, 64, 67, 0.15);\n",
              "    fill: var(--button-hover-fill-color);\n",
              "  }\n",
              "\n",
              "  .colab-df-quickchart-complete:disabled,\n",
              "  .colab-df-quickchart-complete:disabled:hover {\n",
              "    background-color: var(--disabled-bg-color);\n",
              "    fill: var(--disabled-fill-color);\n",
              "    box-shadow: none;\n",
              "  }\n",
              "\n",
              "  .colab-df-spinner {\n",
              "    border: 2px solid var(--fill-color);\n",
              "    border-color: transparent;\n",
              "    border-bottom-color: var(--fill-color);\n",
              "    animation:\n",
              "      spin 1s steps(1) infinite;\n",
              "  }\n",
              "\n",
              "  @keyframes spin {\n",
              "    0% {\n",
              "      border-color: transparent;\n",
              "      border-bottom-color: var(--fill-color);\n",
              "      border-left-color: var(--fill-color);\n",
              "    }\n",
              "    20% {\n",
              "      border-color: transparent;\n",
              "      border-left-color: var(--fill-color);\n",
              "      border-top-color: var(--fill-color);\n",
              "    }\n",
              "    30% {\n",
              "      border-color: transparent;\n",
              "      border-left-color: var(--fill-color);\n",
              "      border-top-color: var(--fill-color);\n",
              "      border-right-color: var(--fill-color);\n",
              "    }\n",
              "    40% {\n",
              "      border-color: transparent;\n",
              "      border-right-color: var(--fill-color);\n",
              "      border-top-color: var(--fill-color);\n",
              "    }\n",
              "    60% {\n",
              "      border-color: transparent;\n",
              "      border-right-color: var(--fill-color);\n",
              "    }\n",
              "    80% {\n",
              "      border-color: transparent;\n",
              "      border-right-color: var(--fill-color);\n",
              "      border-bottom-color: var(--fill-color);\n",
              "    }\n",
              "    90% {\n",
              "      border-color: transparent;\n",
              "      border-bottom-color: var(--fill-color);\n",
              "    }\n",
              "  }\n",
              "</style>\n",
              "\n",
              "  <script>\n",
              "    async function quickchart(key) {\n",
              "      const quickchartButtonEl =\n",
              "        document.querySelector('#' + key + ' button');\n",
              "      quickchartButtonEl.disabled = true;  // To prevent multiple clicks.\n",
              "      quickchartButtonEl.classList.add('colab-df-spinner');\n",
              "      try {\n",
              "        const charts = await google.colab.kernel.invokeFunction(\n",
              "            'suggestCharts', [key], {});\n",
              "      } catch (error) {\n",
              "        console.error('Error during call to suggestCharts:', error);\n",
              "      }\n",
              "      quickchartButtonEl.classList.remove('colab-df-spinner');\n",
              "      quickchartButtonEl.classList.add('colab-df-quickchart-complete');\n",
              "    }\n",
              "    (() => {\n",
              "      let quickchartButtonEl =\n",
              "        document.querySelector('#df-194342df-2718-49e0-aad8-1b48f173ce69 button');\n",
              "      quickchartButtonEl.style.display =\n",
              "        google.colab.kernel.accessAllowed ? 'block' : 'none';\n",
              "    })();\n",
              "  </script>\n",
              "</div>\n",
              "    </div>\n",
              "  </div>\n"
            ],
            "text/plain": [
              "                  Open        High         Low       Close   Adj Close  Volume\n",
              "Date                                                                          \n",
              "2008-01-02  848.700012  857.799988  846.400024  857.000000  857.000000     130\n",
              "2008-01-03  863.000000  865.500000  856.299988  866.400024  866.400024     181\n",
              "2008-01-04  861.400024  865.500000  860.200012  863.099976  863.099976      28\n",
              "2008-01-07  860.900024  860.900024  857.400024  859.599976  859.599976       4\n",
              "2008-01-08  861.599976  879.400024  861.599976  878.000000  878.000000      21"
            ]
          },
          "execution_count": 4,
          "metadata": {},
          "output_type": "execute_result"
        }
      ],
      "source": [
        "stocks = input(\"Enter the code of stock to download stock :- \")\n",
        "data = yf.download(stocks, \"2008-01-01\",\"2024-05-05\")\n",
        "data.head()"
      ]
    },
    {
      "cell_type": "code",
      "execution_count": null,
      "metadata": {
        "colab": {
          "base_uri": "https://localhost:8080/"
        },
        "id": "PNoyvaRUqEon",
        "outputId": "8abc61b0-0205-4b06-fd24-36cf0d914cb0"
      },
      "outputs": [
        {
          "data": {
            "text/plain": [
              "(4111, 6)"
            ]
          },
          "execution_count": 6,
          "metadata": {},
          "output_type": "execute_result"
        }
      ],
      "source": [
        "data.shape"
      ]
    },
    {
      "cell_type": "code",
      "execution_count": null,
      "metadata": {
        "colab": {
          "base_uri": "https://localhost:8080/"
        },
        "id": "1iocMaerqKdO",
        "outputId": "65d0b001-cc2d-4816-8275-0c4b10cd7ae3"
      },
      "outputs": [
        {
          "name": "stdout",
          "output_type": "stream",
          "text": [
            "<class 'pandas.core.frame.DataFrame'>\n",
            "DatetimeIndex: 4111 entries, 2008-01-02 to 2024-05-03\n",
            "Data columns (total 6 columns):\n",
            " #   Column     Non-Null Count  Dtype  \n",
            "---  ------     --------------  -----  \n",
            " 0   Open       4111 non-null   float64\n",
            " 1   High       4111 non-null   float64\n",
            " 2   Low        4111 non-null   float64\n",
            " 3   Close      4111 non-null   float64\n",
            " 4   Adj Close  4111 non-null   float64\n",
            " 5   Volume     4111 non-null   int64  \n",
            "dtypes: float64(5), int64(1)\n",
            "memory usage: 224.8 KB\n"
          ]
        }
      ],
      "source": [
        "data.info()"
      ]
    },
    {
      "cell_type": "code",
      "execution_count": null,
      "metadata": {
        "colab": {
          "base_uri": "https://localhost:8080/",
          "height": 320
        },
        "id": "a2m5VN9hqNXl",
        "outputId": "d616529f-1ebf-44bd-830e-03c45cf77772"
      },
      "outputs": [
        {
          "data": {
            "application/vnd.google.colaboratory.intrinsic+json": {
              "summary": "{\n  \"name\": \"data\",\n  \"rows\": 8,\n  \"fields\": [\n    {\n      \"column\": \"Open\",\n      \"properties\": {\n        \"dtype\": \"number\",\n        \"std\": 1169.7314929124886,\n        \"min\": 331.04612136127787,\n        \"max\": 4111.0,\n        \"num_unique_values\": 8,\n        \"samples\": [\n          1429.553879997905,\n          1328.9000244140625,\n          4111.0\n        ],\n        \"semantic_type\": \"\",\n        \"description\": \"\"\n      }\n    },\n    {\n      \"column\": \"High\",\n      \"properties\": {\n        \"dtype\": \"number\",\n        \"std\": 1171.6561195041843,\n        \"min\": 332.39350599131154,\n        \"max\": 4111.0,\n        \"num_unique_values\": 8,\n        \"samples\": [\n          1437.0098033061547,\n          1335.9000244140625,\n          4111.0\n        ],\n        \"semantic_type\": \"\",\n        \"description\": \"\"\n      }\n    },\n    {\n      \"column\": \"Low\",\n      \"properties\": {\n        \"dtype\": \"number\",\n        \"std\": 1172.809163429432,\n        \"min\": 329.9299471303835,\n        \"max\": 4111.0,\n        \"num_unique_values\": 8,\n        \"samples\": [\n          1421.6352716778583,\n          1323.0,\n          4111.0\n        ],\n        \"semantic_type\": \"\",\n        \"description\": \"\"\n      }\n    },\n    {\n      \"column\": \"Close\",\n      \"properties\": {\n        \"dtype\": \"number\",\n        \"std\": 1171.0323246480077,\n        \"min\": 331.16354030917034,\n        \"max\": 4111.0,\n        \"num_unique_values\": 8,\n        \"samples\": [\n          1429.3853314213438,\n          1328.4000244140625,\n          4111.0\n        ],\n        \"semantic_type\": \"\",\n        \"description\": \"\"\n      }\n    },\n    {\n      \"column\": \"Adj Close\",\n      \"properties\": {\n        \"dtype\": \"number\",\n        \"std\": 1171.0323246480077,\n        \"min\": 331.16354030917034,\n        \"max\": 4111.0,\n        \"num_unique_values\": 8,\n        \"samples\": [\n          1429.3853314213438,\n          1328.4000244140625,\n          4111.0\n        ],\n        \"semantic_type\": \"\",\n        \"description\": \"\"\n      }\n    },\n    {\n      \"column\": \"Volume\",\n      \"properties\": {\n        \"dtype\": \"number\",\n        \"std\": 134979.70452739813,\n        \"min\": 0.0,\n        \"max\": 386334.0,\n        \"num_unique_values\": 8,\n        \"samples\": [\n          5356.2646558015085,\n          153.0,\n          4111.0\n        ],\n        \"semantic_type\": \"\",\n        \"description\": \"\"\n      }\n    }\n  ]\n}",
              "type": "dataframe"
            },
            "text/html": [
              "\n",
              "  <div id=\"df-5dac3828-c0ee-4fb7-9f54-682287938b5d\" class=\"colab-df-container\">\n",
              "    <div>\n",
              "<style scoped>\n",
              "    .dataframe tbody tr th:only-of-type {\n",
              "        vertical-align: middle;\n",
              "    }\n",
              "\n",
              "    .dataframe tbody tr th {\n",
              "        vertical-align: top;\n",
              "    }\n",
              "\n",
              "    .dataframe thead th {\n",
              "        text-align: right;\n",
              "    }\n",
              "</style>\n",
              "<table border=\"1\" class=\"dataframe\">\n",
              "  <thead>\n",
              "    <tr style=\"text-align: right;\">\n",
              "      <th></th>\n",
              "      <th>Open</th>\n",
              "      <th>High</th>\n",
              "      <th>Low</th>\n",
              "      <th>Close</th>\n",
              "      <th>Adj Close</th>\n",
              "      <th>Volume</th>\n",
              "    </tr>\n",
              "  </thead>\n",
              "  <tbody>\n",
              "    <tr>\n",
              "      <th>count</th>\n",
              "      <td>4111.000000</td>\n",
              "      <td>4111.000000</td>\n",
              "      <td>4111.000000</td>\n",
              "      <td>4111.000000</td>\n",
              "      <td>4111.000000</td>\n",
              "      <td>4111.000000</td>\n",
              "    </tr>\n",
              "    <tr>\n",
              "      <th>mean</th>\n",
              "      <td>1429.553880</td>\n",
              "      <td>1437.009803</td>\n",
              "      <td>1421.635272</td>\n",
              "      <td>1429.385331</td>\n",
              "      <td>1429.385331</td>\n",
              "      <td>5356.264656</td>\n",
              "    </tr>\n",
              "    <tr>\n",
              "      <th>std</th>\n",
              "      <td>331.046121</td>\n",
              "      <td>332.393506</td>\n",
              "      <td>329.929947</td>\n",
              "      <td>331.163540</td>\n",
              "      <td>331.163540</td>\n",
              "      <td>28466.110130</td>\n",
              "    </tr>\n",
              "    <tr>\n",
              "      <th>min</th>\n",
              "      <td>705.000000</td>\n",
              "      <td>715.500000</td>\n",
              "      <td>681.000000</td>\n",
              "      <td>704.900024</td>\n",
              "      <td>704.900024</td>\n",
              "      <td>0.000000</td>\n",
              "    </tr>\n",
              "    <tr>\n",
              "      <th>25%</th>\n",
              "      <td>1211.500000</td>\n",
              "      <td>1217.350037</td>\n",
              "      <td>1205.149963</td>\n",
              "      <td>1211.250000</td>\n",
              "      <td>1211.250000</td>\n",
              "      <td>46.000000</td>\n",
              "    </tr>\n",
              "    <tr>\n",
              "      <th>50%</th>\n",
              "      <td>1328.900024</td>\n",
              "      <td>1335.900024</td>\n",
              "      <td>1323.000000</td>\n",
              "      <td>1328.400024</td>\n",
              "      <td>1328.400024</td>\n",
              "      <td>153.000000</td>\n",
              "    </tr>\n",
              "    <tr>\n",
              "      <th>75%</th>\n",
              "      <td>1726.000000</td>\n",
              "      <td>1734.099976</td>\n",
              "      <td>1717.150024</td>\n",
              "      <td>1725.149963</td>\n",
              "      <td>1725.149963</td>\n",
              "      <td>490.000000</td>\n",
              "    </tr>\n",
              "    <tr>\n",
              "      <th>max</th>\n",
              "      <td>2384.199951</td>\n",
              "      <td>2429.000000</td>\n",
              "      <td>2377.300049</td>\n",
              "      <td>2398.399902</td>\n",
              "      <td>2398.399902</td>\n",
              "      <td>386334.000000</td>\n",
              "    </tr>\n",
              "  </tbody>\n",
              "</table>\n",
              "</div>\n",
              "    <div class=\"colab-df-buttons\">\n",
              "\n",
              "  <div class=\"colab-df-container\">\n",
              "    <button class=\"colab-df-convert\" onclick=\"convertToInteractive('df-5dac3828-c0ee-4fb7-9f54-682287938b5d')\"\n",
              "            title=\"Convert this dataframe to an interactive table.\"\n",
              "            style=\"display:none;\">\n",
              "\n",
              "  <svg xmlns=\"http://www.w3.org/2000/svg\" height=\"24px\" viewBox=\"0 -960 960 960\">\n",
              "    <path d=\"M120-120v-720h720v720H120Zm60-500h600v-160H180v160Zm220 220h160v-160H400v160Zm0 220h160v-160H400v160ZM180-400h160v-160H180v160Zm440 0h160v-160H620v160ZM180-180h160v-160H180v160Zm440 0h160v-160H620v160Z\"/>\n",
              "  </svg>\n",
              "    </button>\n",
              "\n",
              "  <style>\n",
              "    .colab-df-container {\n",
              "      display:flex;\n",
              "      gap: 12px;\n",
              "    }\n",
              "\n",
              "    .colab-df-convert {\n",
              "      background-color: #E8F0FE;\n",
              "      border: none;\n",
              "      border-radius: 50%;\n",
              "      cursor: pointer;\n",
              "      display: none;\n",
              "      fill: #1967D2;\n",
              "      height: 32px;\n",
              "      padding: 0 0 0 0;\n",
              "      width: 32px;\n",
              "    }\n",
              "\n",
              "    .colab-df-convert:hover {\n",
              "      background-color: #E2EBFA;\n",
              "      box-shadow: 0px 1px 2px rgba(60, 64, 67, 0.3), 0px 1px 3px 1px rgba(60, 64, 67, 0.15);\n",
              "      fill: #174EA6;\n",
              "    }\n",
              "\n",
              "    .colab-df-buttons div {\n",
              "      margin-bottom: 4px;\n",
              "    }\n",
              "\n",
              "    [theme=dark] .colab-df-convert {\n",
              "      background-color: #3B4455;\n",
              "      fill: #D2E3FC;\n",
              "    }\n",
              "\n",
              "    [theme=dark] .colab-df-convert:hover {\n",
              "      background-color: #434B5C;\n",
              "      box-shadow: 0px 1px 3px 1px rgba(0, 0, 0, 0.15);\n",
              "      filter: drop-shadow(0px 1px 2px rgba(0, 0, 0, 0.3));\n",
              "      fill: #FFFFFF;\n",
              "    }\n",
              "  </style>\n",
              "\n",
              "    <script>\n",
              "      const buttonEl =\n",
              "        document.querySelector('#df-5dac3828-c0ee-4fb7-9f54-682287938b5d button.colab-df-convert');\n",
              "      buttonEl.style.display =\n",
              "        google.colab.kernel.accessAllowed ? 'block' : 'none';\n",
              "\n",
              "      async function convertToInteractive(key) {\n",
              "        const element = document.querySelector('#df-5dac3828-c0ee-4fb7-9f54-682287938b5d');\n",
              "        const dataTable =\n",
              "          await google.colab.kernel.invokeFunction('convertToInteractive',\n",
              "                                                    [key], {});\n",
              "        if (!dataTable) return;\n",
              "\n",
              "        const docLinkHtml = 'Like what you see? Visit the ' +\n",
              "          '<a target=\"_blank\" href=https://colab.research.google.com/notebooks/data_table.ipynb>data table notebook</a>'\n",
              "          + ' to learn more about interactive tables.';\n",
              "        element.innerHTML = '';\n",
              "        dataTable['output_type'] = 'display_data';\n",
              "        await google.colab.output.renderOutput(dataTable, element);\n",
              "        const docLink = document.createElement('div');\n",
              "        docLink.innerHTML = docLinkHtml;\n",
              "        element.appendChild(docLink);\n",
              "      }\n",
              "    </script>\n",
              "  </div>\n",
              "\n",
              "\n",
              "<div id=\"df-fa80d83e-9cd3-4094-a1db-1c25d6afec2f\">\n",
              "  <button class=\"colab-df-quickchart\" onclick=\"quickchart('df-fa80d83e-9cd3-4094-a1db-1c25d6afec2f')\"\n",
              "            title=\"Suggest charts\"\n",
              "            style=\"display:none;\">\n",
              "\n",
              "<svg xmlns=\"http://www.w3.org/2000/svg\" height=\"24px\"viewBox=\"0 0 24 24\"\n",
              "     width=\"24px\">\n",
              "    <g>\n",
              "        <path d=\"M19 3H5c-1.1 0-2 .9-2 2v14c0 1.1.9 2 2 2h14c1.1 0 2-.9 2-2V5c0-1.1-.9-2-2-2zM9 17H7v-7h2v7zm4 0h-2V7h2v10zm4 0h-2v-4h2v4z\"/>\n",
              "    </g>\n",
              "</svg>\n",
              "  </button>\n",
              "\n",
              "<style>\n",
              "  .colab-df-quickchart {\n",
              "      --bg-color: #E8F0FE;\n",
              "      --fill-color: #1967D2;\n",
              "      --hover-bg-color: #E2EBFA;\n",
              "      --hover-fill-color: #174EA6;\n",
              "      --disabled-fill-color: #AAA;\n",
              "      --disabled-bg-color: #DDD;\n",
              "  }\n",
              "\n",
              "  [theme=dark] .colab-df-quickchart {\n",
              "      --bg-color: #3B4455;\n",
              "      --fill-color: #D2E3FC;\n",
              "      --hover-bg-color: #434B5C;\n",
              "      --hover-fill-color: #FFFFFF;\n",
              "      --disabled-bg-color: #3B4455;\n",
              "      --disabled-fill-color: #666;\n",
              "  }\n",
              "\n",
              "  .colab-df-quickchart {\n",
              "    background-color: var(--bg-color);\n",
              "    border: none;\n",
              "    border-radius: 50%;\n",
              "    cursor: pointer;\n",
              "    display: none;\n",
              "    fill: var(--fill-color);\n",
              "    height: 32px;\n",
              "    padding: 0;\n",
              "    width: 32px;\n",
              "  }\n",
              "\n",
              "  .colab-df-quickchart:hover {\n",
              "    background-color: var(--hover-bg-color);\n",
              "    box-shadow: 0 1px 2px rgba(60, 64, 67, 0.3), 0 1px 3px 1px rgba(60, 64, 67, 0.15);\n",
              "    fill: var(--button-hover-fill-color);\n",
              "  }\n",
              "\n",
              "  .colab-df-quickchart-complete:disabled,\n",
              "  .colab-df-quickchart-complete:disabled:hover {\n",
              "    background-color: var(--disabled-bg-color);\n",
              "    fill: var(--disabled-fill-color);\n",
              "    box-shadow: none;\n",
              "  }\n",
              "\n",
              "  .colab-df-spinner {\n",
              "    border: 2px solid var(--fill-color);\n",
              "    border-color: transparent;\n",
              "    border-bottom-color: var(--fill-color);\n",
              "    animation:\n",
              "      spin 1s steps(1) infinite;\n",
              "  }\n",
              "\n",
              "  @keyframes spin {\n",
              "    0% {\n",
              "      border-color: transparent;\n",
              "      border-bottom-color: var(--fill-color);\n",
              "      border-left-color: var(--fill-color);\n",
              "    }\n",
              "    20% {\n",
              "      border-color: transparent;\n",
              "      border-left-color: var(--fill-color);\n",
              "      border-top-color: var(--fill-color);\n",
              "    }\n",
              "    30% {\n",
              "      border-color: transparent;\n",
              "      border-left-color: var(--fill-color);\n",
              "      border-top-color: var(--fill-color);\n",
              "      border-right-color: var(--fill-color);\n",
              "    }\n",
              "    40% {\n",
              "      border-color: transparent;\n",
              "      border-right-color: var(--fill-color);\n",
              "      border-top-color: var(--fill-color);\n",
              "    }\n",
              "    60% {\n",
              "      border-color: transparent;\n",
              "      border-right-color: var(--fill-color);\n",
              "    }\n",
              "    80% {\n",
              "      border-color: transparent;\n",
              "      border-right-color: var(--fill-color);\n",
              "      border-bottom-color: var(--fill-color);\n",
              "    }\n",
              "    90% {\n",
              "      border-color: transparent;\n",
              "      border-bottom-color: var(--fill-color);\n",
              "    }\n",
              "  }\n",
              "</style>\n",
              "\n",
              "  <script>\n",
              "    async function quickchart(key) {\n",
              "      const quickchartButtonEl =\n",
              "        document.querySelector('#' + key + ' button');\n",
              "      quickchartButtonEl.disabled = true;  // To prevent multiple clicks.\n",
              "      quickchartButtonEl.classList.add('colab-df-spinner');\n",
              "      try {\n",
              "        const charts = await google.colab.kernel.invokeFunction(\n",
              "            'suggestCharts', [key], {});\n",
              "      } catch (error) {\n",
              "        console.error('Error during call to suggestCharts:', error);\n",
              "      }\n",
              "      quickchartButtonEl.classList.remove('colab-df-spinner');\n",
              "      quickchartButtonEl.classList.add('colab-df-quickchart-complete');\n",
              "    }\n",
              "    (() => {\n",
              "      let quickchartButtonEl =\n",
              "        document.querySelector('#df-fa80d83e-9cd3-4094-a1db-1c25d6afec2f button');\n",
              "      quickchartButtonEl.style.display =\n",
              "        google.colab.kernel.accessAllowed ? 'block' : 'none';\n",
              "    })();\n",
              "  </script>\n",
              "</div>\n",
              "    </div>\n",
              "  </div>\n"
            ],
            "text/plain": [
              "              Open         High          Low        Close    Adj Close  \\\n",
              "count  4111.000000  4111.000000  4111.000000  4111.000000  4111.000000   \n",
              "mean   1429.553880  1437.009803  1421.635272  1429.385331  1429.385331   \n",
              "std     331.046121   332.393506   329.929947   331.163540   331.163540   \n",
              "min     705.000000   715.500000   681.000000   704.900024   704.900024   \n",
              "25%    1211.500000  1217.350037  1205.149963  1211.250000  1211.250000   \n",
              "50%    1328.900024  1335.900024  1323.000000  1328.400024  1328.400024   \n",
              "75%    1726.000000  1734.099976  1717.150024  1725.149963  1725.149963   \n",
              "max    2384.199951  2429.000000  2377.300049  2398.399902  2398.399902   \n",
              "\n",
              "              Volume  \n",
              "count    4111.000000  \n",
              "mean     5356.264656  \n",
              "std     28466.110130  \n",
              "min         0.000000  \n",
              "25%        46.000000  \n",
              "50%       153.000000  \n",
              "75%       490.000000  \n",
              "max    386334.000000  "
            ]
          },
          "execution_count": 8,
          "metadata": {},
          "output_type": "execute_result"
        }
      ],
      "source": [
        "data.describe()"
      ]
    },
    {
      "cell_type": "code",
      "execution_count": null,
      "metadata": {
        "id": "H8h7L_VXqQbE"
      },
      "outputs": [],
      "source": []
    },
    {
      "cell_type": "code",
      "execution_count": null,
      "metadata": {
        "id": "b3h5Z5Adqr5l"
      },
      "outputs": [],
      "source": []
    },
    {
      "cell_type": "markdown",
      "metadata": {
        "id": "S15by9sQqRUh"
      },
      "source": [
        "Data description is done here"
      ]
    },
    {
      "cell_type": "code",
      "execution_count": null,
      "metadata": {
        "colab": {
          "base_uri": "https://localhost:8080/",
          "height": 439
        },
        "id": "mQ1jWusNqtR9",
        "outputId": "bbb001e8-cb57-47da-9979-760829f2703b"
      },
      "outputs": [
        {
          "data": {
            "image/png": "[encoded data removed]",
            "text/plain": [
              "<Figure size 1000x700 with 1 Axes>"
            ]
          },
          "metadata": {},
          "output_type": "display_data"
        }
      ],
      "source": [
        "data.Close.plot(figsize=(10,7), color='r')\n",
        "plt.ylabel(\"{}Prices\".format(stocks))\n",
        "plt.title(\"{} Price Series\".format(stocks))\n",
        "plt.show()"
      ]
    },
    {
      "cell_type": "code",
      "execution_count": null,
      "metadata": {
        "colab": {
          "base_uri": "https://localhost:8080/",
          "height": 692
        },
        "id": "bJjuPxDSrLTC",
        "outputId": "b37aedc5-5fda-4952-c0a2-080030c64cae"
      },
      "outputs": [
        {
          "name": "stderr",
          "output_type": "stream",
          "text": [
            "<ipython-input-13-efa29248b4a9>:1: UserWarning: \n",
            "\n",
            "`distplot` is a deprecated function and will be removed in seaborn v0.14.0.\n",
            "\n",
            "Please adapt your code to use either `displot` (a figure-level function with\n",
            "similar flexibility) or `histplot` (an axes-level function for histograms).\n",
            "\n",
            "For a guide to updating your code to use the new functions, please see\n",
            "https://gist.github.com/mwaskom/de44147ed2974457ad6372750bbe5751\n",
            "\n",
            "  sns.distplot(data[\"Close\"])\n"
          ]
        },
        {
          "data": {
            "text/plain": [
              "<Axes: xlabel='Close', ylabel='Density'>"
            ]
          },
          "execution_count": 13,
          "metadata": {},
          "output_type": "execute_result"
        },
        {
          "data": {
            "image/png": "[encoded data removed]",
            "text/plain": [
              "<Figure size 640x480 with 1 Axes>"
            ]
          },
          "metadata": {},
          "output_type": "display_data"
        }
      ],
      "source": [
        "sns.distplot(data[\"Close\"])\n",
        "# sns.displot(data[\"Close\"])"
      ]
    },
    {
      "cell_type": "code",
      "execution_count": null,
      "metadata": {
        "colab": {
          "base_uri": "https://localhost:8080/",
          "height": 692
        },
        "id": "UZbXEHeUrv7M",
        "outputId": "8a759a48-9765-4489-e17c-77b0b3fd051b"
      },
      "outputs": [
        {
          "name": "stderr",
          "output_type": "stream",
          "text": [
            "<ipython-input-14-daae21fed2ea>:1: UserWarning: \n",
            "\n",
            "`distplot` is a deprecated function and will be removed in seaborn v0.14.0.\n",
            "\n",
            "Please adapt your code to use either `displot` (a figure-level function with\n",
            "similar flexibility) or `histplot` (an axes-level function for histograms).\n",
            "\n",
            "For a guide to updating your code to use the new functions, please see\n",
            "https://gist.github.com/mwaskom/de44147ed2974457ad6372750bbe5751\n",
            "\n",
            "  sns.distplot(data[\"Open\"])\n"
          ]
        },
        {
          "data": {
            "text/plain": [
              "<Axes: xlabel='Open', ylabel='Density'>"
            ]
          },
          "execution_count": 14,
          "metadata": {},
          "output_type": "execute_result"
        },
        {
          "data": {
            "image/png": "[encoded data removed]",
            "text/plain": [
              "<Figure size 640x480 with 1 Axes>"
            ]
          },
          "metadata": {},
          "output_type": "display_data"
        }
      ],
      "source": [
        "sns.distplot(data[\"Open\"])"
      ]
    },
    {
      "cell_type": "code",
      "execution_count": null,
      "metadata": {
        "colab": {
          "base_uri": "https://localhost:8080/",
          "height": 692
        },
        "id": "dMJt2p7hr57n",
        "outputId": "810f2b27-d623-40f8-8c53-1c5c0c2bf174"
      },
      "outputs": [
        {
          "name": "stderr",
          "output_type": "stream",
          "text": [
            "<ipython-input-15-f105f0b633a7>:1: UserWarning: \n",
            "\n",
            "`distplot` is a deprecated function and will be removed in seaborn v0.14.0.\n",
            "\n",
            "Please adapt your code to use either `displot` (a figure-level function with\n",
            "similar flexibility) or `histplot` (an axes-level function for histograms).\n",
            "\n",
            "For a guide to updating your code to use the new functions, please see\n",
            "https://gist.github.com/mwaskom/de44147ed2974457ad6372750bbe5751\n",
            "\n",
            "  sns.distplot(data[\"High\"])\n"
          ]
        },
        {
          "data": {
            "text/plain": [
              "<Axes: xlabel='High', ylabel='Density'>"
            ]
          },
          "execution_count": 15,
          "metadata": {},
          "output_type": "execute_result"
        },
        {
          "data": {
            "image/png": "[encoded data removed]",
            "text/plain": [
              "<Figure size 640x480 with 1 Axes>"
            ]
          },
          "metadata": {},
          "output_type": "display_data"
        }
      ],
      "source": [
        " sns.distplot(data[\"High\"])"
      ]
    },
    {
      "cell_type": "markdown",
      "metadata": {
        "id": "4i7MT2H2zcUY"
      },
      "source": [
        "Now we have done out data exploration and we will start training our model"
      ]
    },
    {
      "cell_type": "code",
      "execution_count": null,
      "metadata": {
        "colab": {
          "base_uri": "https://localhost:8080/"
        },
        "id": "_Qc2J8e0sEHM",
        "outputId": "ca21ec9e-582b-4725-816c-7fd3f451427a"
      },
      "outputs": [
        {
          "name": "stdout",
          "output_type": "stream",
          "text": [
            "(3288, 5)\n",
            "(823, 5)\n",
            "(3288,)\n",
            "(823,)\n"
          ]
        }
      ],
      "source": [
        "#Conclusion\n",
        "\n",
        "# -> Shape of the data\n",
        "# ->How our data is distributed\n",
        "# ->It's very very non-linear\n",
        "# ->Not gonna use linear regression since it is highly non - linear\n",
        "\n",
        "#Studies uptil now -> Linear Regression, Logistic , SVM, Regularise\n",
        "\n",
        "X = data.drop(\"Close\", axis=1)\n",
        "y = data[\"Close\"]\n",
        "\n",
        "from sklearn.model_selection import train_test_split\n",
        "\n",
        "X_train, X_test, y_train, y_test = train_test_split(X,y,test_size=0.2, random_state=0)\n",
        "print(X_train.shape)\n",
        "print(X_test.shape)\n",
        "print(y_train.shape)\n",
        "print(y_test.shape)"
      ]
    },
    {
      "cell_type": "markdown",
      "metadata": {
        "id": "4qPvuShc0Ftj"
      },
      "source": [
        "below we are gonna check our predicted values"
      ]
    },
    {
      "cell_type": "code",
      "execution_count": null,
      "metadata": {
        "id": "dsMFToXtzrTu"
      },
      "outputs": [],
      "source": [
        "from sklearn.linear_model import LinearRegression\n",
        "\n",
        "lr = LinearRegression() # creating an instance of object\n",
        "lr.fit(X_train, y_train)\n",
        "pred1 = lr.predict(X_test)"
      ]
    },
    {
      "cell_type": "code",
      "execution_count": null,
      "metadata": {
        "colab": {
          "base_uri": "https://localhost:8080/"
        },
        "id": "q0ibWex5z9zP",
        "outputId": "0ff8bd4e-00b8-4990-9e0b-0e7e36739845"
      },
      "outputs": [
        {
          "data": {
            "text/plain": [
              "array([1719.09997559, 1250.30004883, 1298.90002441,  887.        ,\n",
              "       1792.30004883, 1601.30004883, 1203.09997559, 1314.40002441,\n",
              "       1730.59997559, 1791.19995117, 1919.5       , 1767.30004883,\n",
              "       1994.19995117, 1784.        , 1257.40002441, 1057.30004883,\n",
              "       1727.        , 1463.09997559, 1900.69995117,  888.70001221,\n",
              "       1330.        , 1112.59997559, 1727.90002441, 1271.80004883,\n",
              "       1284.69995117, 1690.40002441, 1117.80004883, 1060.09997559,\n",
              "       1739.19995117, 1148.30004883, 1279.90002441, 1775.80004883,\n",
              "       1737.80004883, 1225.69995117, 1999.40002441, 1328.19995117,\n",
              "        926.59997559, 1736.19995117, 1532.09997559, 1615.59997559,\n",
              "       2343.5       , 1859.90002441, 1290.19995117, 1324.69995117,\n",
              "       1958.40002441, 1662.40002441, 1392.        , 1364.09997559,\n",
              "       1825.69995117, 1423.80004883, 1336.40002441, 1908.69995117,\n",
              "        869.59997559, 1235.69995117,  963.90002441, 1719.80004883,\n",
              "       1203.09997559, 1053.40002441, 1335.80004883, 2236.5       ,\n",
              "       1586.80004883, 1254.19995117, 1350.19995117, 1828.69995117,\n",
              "       1112.90002441, 1265.59997559, 1503.        , 1303.5       ,\n",
              "       1637.40002441, 1909.30004883, 1421.        ,  926.29998779,\n",
              "       1077.59997559, 1222.30004883, 1123.19995117,  902.79998779,\n",
              "        877.70001221, 1377.59997559, 1317.69995117, 1205.09997559,\n",
              "       1295.09997559, 1396.5       , 1446.30004883, 1230.30004883,\n",
              "       1700.19995117, 1251.        , 1306.59997559, 1321.        ,\n",
              "       1259.59997559, 1732.        , 1868.30004883, 1330.69995117,\n",
              "       1922.5       , 1347.19995117,  930.70001221, 1211.69995117,\n",
              "       1681.30004883, 1279.        , 1153.5       , 1682.19995117,\n",
              "       1612.30004883, 1277.69995117, 1747.        ,  745.59997559,\n",
              "        923.        , 1276.19995117, 1097.90002441, 1698.        ,\n",
              "       1837.5       , 1156.40002441, 1841.80004883, 1682.69995117,\n",
              "       1648.69995117, 1679.5       , 1196.90002441, 1287.        ,\n",
              "        972.20001221, 1966.09997559, 1383.        , 1379.09997559,\n",
              "       1875.40002441, 1201.5       , 1191.69995117,  934.59997559,\n",
              "       1175.        , 1119.40002441, 1233.80004883, 1988.40002441,\n",
              "       1979.5       , 1923.69995117, 1283.40002441, 1969.80004883,\n",
              "       1464.30004883, 1054.19995117, 1657.90002441, 1146.        ,\n",
              "       2332.19995117, 1788.69995117, 1831.19995117, 1964.30004883,\n",
              "       1340.19995117, 1635.90002441, 1651.5       , 1293.09997559,\n",
              "       1611.90002441, 1231.80004883, 1084.40002441, 1995.19995117,\n",
              "       1715.30004883, 1263.19995117, 1335.69995117, 1703.        ,\n",
              "       1776.        , 1267.80004883, 1138.09997559, 1333.80004883,\n",
              "       2013.90002441, 1337.69995117, 1338.40002441, 1225.5       ,\n",
              "       1153.09997559, 1770.80004883, 1998.09997559, 1312.19995117,\n",
              "       1873.5       , 1110.80004883, 1604.59997559, 1052.19995117,\n",
              "       1199.09997559, 1102.69995117, 1075.80004883, 1696.59997559,\n",
              "        880.59997559, 1258.09997559, 1482.30004883, 1473.30004883,\n",
              "       1320.30004883, 1265.59997559, 1152.30004883, 2030.19995117,\n",
              "       1613.40002441, 1137.09997559,  900.09997559, 1336.69995117,\n",
              "       1626.69995117, 1333.        , 1549.        , 1847.90002441,\n",
              "       1274.09997559, 1595.5       , 1214.30004883, 1526.59997559,\n",
              "       1720.40002441,  735.90002441, 1955.30004883, 1813.90002441,\n",
              "       1933.80004883, 1869.69995117,  866.40002441, 1810.90002441,\n",
              "       1994.        , 1641.40002441, 1207.19995117, 1292.90002441,\n",
              "       1964.19995117, 1852.30004883,  953.20001221,  741.29998779,\n",
              "       1216.        , 1226.59997559, 1226.90002441, 2058.19995117,\n",
              "       1132.59997559,  925.40002441, 1516.69995117,  872.29998779,\n",
              "       1445.59997559, 1178.19995117, 1235.40002441, 1824.59997559,\n",
              "       2038.40002441, 1857.69995117,  901.70001221, 1514.90002441,\n",
              "       1750.40002441,  880.70001221, 1566.        , 1203.90002441,\n",
              "        921.59997559, 1387.30004883, 1272.59997559, 1655.19995117,\n",
              "       1713.30004883, 1896.80004883, 1192.59997559, 1976.30004883,\n",
              "       1307.80004883, 1728.69995117, 1285.80004883, 1956.69995117,\n",
              "       1408.40002441, 1942.30004883, 1270.19995117, 1170.80004883,\n",
              "       1197.5       , 1341.30004883, 1211.09997559, 1386.19995117,\n",
              "       2021.09997559,  862.70001221, 1827.19995117, 1940.69995117,\n",
              "       1114.19995117, 1467.40002441, 1314.59997559, 1700.30004883,\n",
              "       1312.        , 1992.90002441, 1115.5       , 1537.80004883,\n",
              "       1911.30004883, 1309.5       , 1656.19995117, 1314.30004883,\n",
              "       1250.59997559, 1706.90002441, 1551.69995117, 1841.69995117,\n",
              "       1577.09997559, 1268.5       , 1889.80004883,  909.        ,\n",
              "       1921.59997559, 1965.09997559, 1186.09997559, 1284.80004883,\n",
              "       1183.59997559, 1331.5       , 1657.        , 1090.19995117,\n",
              "       1834.80004883, 1352.90002441, 1566.19995117, 1813.69995117,\n",
              "       1968.30004883, 1919.09997559, 1955.69995117, 1370.19995117,\n",
              "       1130.09997559, 1380.        , 1282.        , 1606.19995117,\n",
              "       1729.19995117, 1874.69995117, 1086.69995117, 1371.19995117,\n",
              "       1149.        ,  847.09997559,  797.90002441, 1233.90002441,\n",
              "       1138.59997559, 1571.80004883, 1218.59997559, 1298.69995117,\n",
              "       1132.90002441, 1215.        , 1991.5       , 2026.        ,\n",
              "       1385.5       , 1290.59997559, 1776.69995117, 1616.09997559,\n",
              "       1228.90002441, 1308.69995117, 1894.59997559, 1244.5       ,\n",
              "       1785.5       , 1246.30004883, 1613.80004883, 1728.90002441,\n",
              "       1342.09997559, 1208.09997559, 1397.09997559, 1174.19995117,\n",
              "       1325.90002441, 1313.09997559, 1760.80004883, 1646.        ,\n",
              "       1253.80004883, 1293.59997559, 1753.40002441, 1322.90002441,\n",
              "       1121.69995117, 1224.80004883, 1065.80004883, 2182.39990234,\n",
              "       1142.69995117, 1285.59997559, 1837.69995117, 1658.59997559,\n",
              "       1558.30004883, 1540.09997559, 1772.09997559, 1275.59997559,\n",
              "       1257.59997559, 1663.69995117, 1515.        , 1615.19995117,\n",
              "       1709.90002441, 1760.5       , 1125.09997559, 1670.30004883,\n",
              "       1222.30004883, 1327.19995117, 1480.90002441, 1267.59997559,\n",
              "       1104.19995117, 1727.19995117, 1093.30004883, 1468.80004883,\n",
              "       1294.69995117,  964.5       , 1240.        , 1283.09997559,\n",
              "       1252.09997559, 1193.5       , 1528.59997559,  947.        ,\n",
              "       1097.        , 1775.5       , 1769.        , 1664.59997559,\n",
              "       1095.09997559, 1834.19995117, 1881.30004883, 1239.69995117,\n",
              "       1192.59997559, 1193.90002441, 1815.90002441, 1343.30004883,\n",
              "        907.40002441, 1055.59997559, 1270.5       , 1898.09997559,\n",
              "       1298.09997559, 1963.90002441, 1230.40002441, 1740.09997559,\n",
              "       1344.80004883,  878.79998779, 1716.59997559, 1191.5       ,\n",
              "       1107.19995117, 1501.        , 1252.09997559, 1097.80004883,\n",
              "       1273.        , 1104.19995117, 1316.69995117,  923.29998779,\n",
              "       1355.90002441, 1908.5       , 1489.90002441, 1748.80004883,\n",
              "       1929.19995117, 1858.30004883, 1252.40002441, 1322.80004883,\n",
              "       1218.09997559, 1866.5       , 1757.09997559, 1217.40002441,\n",
              "       1245.90002441, 1339.        , 1221.19995117, 1162.80004883,\n",
              "        937.70001221, 1211.90002441, 1790.69995117, 1293.40002441,\n",
              "       1076.69995117, 1277.40002441, 1265.59997559, 1313.30004883,\n",
              "        946.09997559, 1070.5       , 1200.59997559,  963.09997559,\n",
              "       1286.90002441,  992.29998779, 1198.90002441, 1933.90002441,\n",
              "       1324.5       , 1337.09997559, 1736.90002441, 1812.09997559,\n",
              "       1171.90002441, 1417.69995117, 1305.80004883, 1772.5       ,\n",
              "       1339.19995117,  904.90002441, 1804.69995117, 1627.5       ,\n",
              "       1273.5       , 1808.69995117, 1919.19995117, 1828.        ,\n",
              "       1702.19995117, 1792.40002441, 1320.09997559, 1313.5       ,\n",
              "       1224.5       , 1807.40002441, 1652.19995117, 1338.09997559,\n",
              "       1579.30004883, 1922.90002441, 1801.09997559, 1839.80004883,\n",
              "       1420.09997559, 1615.        , 1160.09997559, 1118.        ,\n",
              "       1612.69995117,  885.90002441, 1227.80004883,  945.79998779,\n",
              "        899.79998779, 1340.69995117, 1284.40002441, 1332.80004883,\n",
              "        787.59997559, 1199.30004883, 1237.59997559, 1050.69995117,\n",
              "       1342.5       , 1660.69995117, 1271.40002441, 1285.        ,\n",
              "       1599.69995117, 1183.        , 1304.        , 1364.40002441,\n",
              "       1795.09997559, 1187.19995117, 1306.09997559, 1790.30004883,\n",
              "       1989.90002441, 1793.30004883, 1181.09997559,  895.59997559,\n",
              "       1298.30004883, 1371.19995117, 1217.5       , 1313.69995117,\n",
              "       1590.09997559, 1512.30004883, 1209.59997559, 1834.09997559,\n",
              "       1253.80004883, 1323.40002441, 1312.90002441,  953.70001221,\n",
              "       1962.09997559, 2174.80004883,  965.70001221, 1310.69995117,\n",
              "       1617.09997559, 1308.19995117, 1116.40002441, 1999.30004883,\n",
              "       1285.69995117, 1589.80004883, 1290.09997559, 1062.40002441,\n",
              "        927.        ,  882.90002441, 1111.40002441, 1616.59997559,\n",
              "       1662.30004883, 1382.80004883, 1303.09997559,  977.70001221,\n",
              "       1280.09997559, 1595.09997559, 1294.69995117, 1758.        ,\n",
              "       1783.5       , 1781.59997559, 1182.69995117, 1532.        ,\n",
              "       1131.80004883, 1886.09997559, 1311.30004883, 1763.        ,\n",
              "       1254.30004883, 1901.09997559, 1276.19995117, 1921.09997559,\n",
              "       1577.19995117, 1893.09997559, 1974.80004883, 1324.19995117,\n",
              "       1208.09997559, 1268.30004883, 1783.        ,  855.40002441,\n",
              "       1196.69995117, 1575.09997559, 1264.69995117, 1775.59997559,\n",
              "        901.29998779, 1185.19995117, 1136.30004883,  819.40002441,\n",
              "       1272.40002441, 1088.19995117, 1490.19995117, 1792.69995117,\n",
              "       1644.19995117, 1835.90002441, 1699.59997559, 1662.59997559,\n",
              "       1556.80004883, 1201.19995117, 1254.80004883, 1833.59997559,\n",
              "       1191.5       , 1321.09997559,  791.70001221, 1991.5       ,\n",
              "        927.09997559, 1393.        , 1608.        , 1780.19995117,\n",
              "       1746.19995117, 1256.90002441,  903.90002441,  957.        ,\n",
              "       1291.59997559, 1700.40002441, 1161.59997559,  808.5       ,\n",
              "       2021.69995117, 1923.69995117, 1119.30004883, 1888.59997559,\n",
              "       1845.69995117, 1670.40002441, 1564.5       , 1774.40002441,\n",
              "        913.59997559, 1233.19995117,  841.70001221, 1300.09997559,\n",
              "       1917.5       , 1223.80004883, 1723.5       , 1972.40002441,\n",
              "       1912.        , 1312.19995117, 1279.30004883, 1104.40002441,\n",
              "       1519.5       , 2007.40002441, 1800.30004883, 1141.5       ,\n",
              "       1687.90002441,  921.29998779, 1099.30004883, 1202.90002441,\n",
              "       1985.        , 1186.90002441, 2048.39990234, 1669.30004883,\n",
              "       1089.5       ,  926.20001221, 2040.09997559, 1309.69995117,\n",
              "       1737.90002441, 1712.80004883, 1300.30004883, 1217.90002441,\n",
              "       1834.30004883, 1189.09997559, 1241.19995117, 1695.69995117,\n",
              "       1352.40002441, 1254.        , 1669.59997559, 1183.90002441,\n",
              "       1962.80004883, 1120.40002441, 1293.30004883, 1275.59997559,\n",
              "       1678.19995117, 1225.30004883, 1198.40002441, 1906.19995117,\n",
              "        865.40002441, 1333.40002441, 1287.09997559, 1177.90002441,\n",
              "       1184.19995117, 1885.90002441, 1824.30004883, 2327.69995117,\n",
              "       1115.69995117, 1793.5       , 1237.80004883, 1803.        ,\n",
              "       1220.09997559, 1639.19995117, 1507.30004883,  808.20001221,\n",
              "       1250.19995117,  836.40002441, 1123.59997559, 2371.69995117,\n",
              "       1871.59997559, 1507.5       , 1107.80004883, 1774.59997559,\n",
              "       1288.80004883, 1198.5       , 1303.09997559, 1038.59997559,\n",
              "       1498.90002441, 2345.39990234, 1969.        , 1220.19995117,\n",
              "       1317.40002441, 1927.59997559, 1428.19995117,  997.5       ,\n",
              "        942.09997559, 1104.09997559, 1225.30004883, 1267.        ,\n",
              "       2324.5       , 1251.69995117, 1770.        , 1211.30004883,\n",
              "       1634.19995117, 1675.30004883, 1869.90002441, 1968.90002441,\n",
              "       1632.30004883, 1632.80004883, 1257.30004883, 1016.70001221,\n",
              "       1734.90002441, 1283.        , 1829.30004883, 1781.19995117,\n",
              "       1152.19995117, 1756.80004883,  787.09997559, 1266.09997559,\n",
              "       1169.59997559, 1210.5       , 1255.09997559, 1507.5       ,\n",
              "       1252.80004883, 1311.69995117, 1293.69995117, 1498.69995117,\n",
              "        955.79998779,  880.59997559,  882.5       , 1781.69995117,\n",
              "        960.70001221, 1131.59997559,  878.        , 1271.90002441,\n",
              "       1434.5       , 1284.5       , 1799.40002441, 1888.69995117,\n",
              "       1309.80004883, 1933.30004883, 1794.        , 1279.40002441,\n",
              "       1301.5       , 1138.59997559, 1799.59997559, 1176.5       ,\n",
              "       1135.30004883, 1788.5       , 1290.59997559, 2016.80004883,\n",
              "       1340.40002441, 1575.19995117, 1331.30004883, 1317.90002441,\n",
              "       1574.59997559, 1831.80004883, 1159.69995117, 1351.19995117,\n",
              "        941.79998779, 1577.59997559, 1568.59997559, 1493.19995117,\n",
              "       1649.        , 1221.19995117, 1249.80004883,  870.40002441,\n",
              "       1773.59997559, 1413.90002441, 1912.30004883, 1767.40002441,\n",
              "        914.        ,  874.20001221,  717.70001221,  928.79998779,\n",
              "        732.        , 1296.40002441, 1931.5       ,  883.59997559,\n",
              "       1305.69995117, 1277.30004883, 1542.09997559, 1841.19995117,\n",
              "       1227.40002441, 1245.19995117, 1289.90002441, 1203.40002441,\n",
              "       1116.09997559,  905.5       , 1220.09997559, 1909.09997559,\n",
              "       1730.30004883, 1239.80004883, 1668.90002441, 1761.80004883,\n",
              "       1234.40002441, 2032.19995117, 1910.        , 1716.5       ,\n",
              "        763.79998779, 1099.09997559, 1645.5       ,  937.59997559,\n",
              "       1056.19995117, 1415.69995117, 1339.19995117, 1324.40002441,\n",
              "       1222.59997559, 1564.30004883, 1281.90002441, 1296.        ,\n",
              "        871.5       , 1285.90002441, 1408.69995117, 1192.59997559,\n",
              "       1852.80004883, 1237.        , 1257.19995117, 1755.30004883,\n",
              "       1286.69995117,  783.09997559,  998.20001221,  909.        ,\n",
              "       1221.69995117, 1828.40002441, 1888.5       , 1334.        ,\n",
              "       1211.90002441, 1831.90002441, 1326.40002441,  956.59997559,\n",
              "       1210.59997559, 1750.30004883, 1806.        , 1378.5       ,\n",
              "       1242.19995117, 1225.80004883, 1791.40002441, 1810.09997559,\n",
              "       1046.40002441, 1877.40002441, 1769.09997559])"
            ]
          },
          "execution_count": 20,
          "metadata": {},
          "output_type": "execute_result"
        }
      ],
      "source": [
        "pred1"
      ]
    },
    {
      "cell_type": "code",
      "execution_count": null,
      "metadata": {
        "colab": {
          "base_uri": "https://localhost:8080/"
        },
        "id": "NfECPeQb0N19",
        "outputId": "80a9499e-a856-4fb1-d10c-bd2835053212"
      },
      "outputs": [
        {
          "name": "stdout",
          "output_type": "stream",
          "text": [
            "MSE:-  1.3706617687389068e-23\n",
            "RMSE:-  3.702244952375392e-12\n",
            "R2 Score:-  1.0\n"
          ]
        }
      ],
      "source": [
        "#MSE --> Mean Squared Error\n",
        "#RMSE --> Sqaure__root(MSE)\n",
        "#r2_square ---> 1.0 # good model\n",
        "\n",
        "# We are using a library method below from sklearn\n",
        "#also we are creating a user defined method calculate_metrics\n",
        "from sklearn.metrics import mean_squared_error, r2_score\n",
        "def calculate_metrics(y_test, y_pred):\n",
        "  # y_test is ground truth\n",
        "  # y_pred is model predicted value\n",
        "  mse = mean_squared_error(y_test, y_pred)\n",
        "  rmse = np.sqrt(mse)\n",
        "  r2_scors = r2_score(y_test, y_pred)\n",
        "\n",
        "  print(\"MSE:- \", mse)\n",
        "  print(\"RMSE:- \",rmse)\n",
        "  print(\"R2 Score:- \",r2_scors)\n",
        "\n",
        "calculate_metrics(y_test, pred1)"
      ]
    },
    {
      "cell_type": "markdown",
      "metadata": {
        "id": "AZXp0pVW1u-O"
      },
      "source": [
        "I saw in the youtube video he took a slightly older dataset. Our model is not good\n",
        "MSE:-  1.3706617687389068e-23\n",
        "RMSE:-  3.702244952375392e-12\n",
        "R2 Score:-  1.0\n",
        "\n",
        "I need to do some changes to make it good\n",
        "\n",
        "of freecodecampt youtube video : MSE = 0.001, RMSE = 0.03 => which makes his model good as  values <1\n",
        "\n",
        "Conclusion : This model was very good for learning purpose but needs many changes for making it better at predicting"
      ]
    },
    {
      "cell_type": "code",
      "execution_count": 35,
      "metadata": {
        "colab": {
          "base_uri": "https://localhost:8080/"
        },
        "id": "RWw3K-6N1uYU",
        "outputId": "3ca81709-30f8-4203-e0da-d393cf05b96d"
      },
      "outputs": [
        {
          "output_type": "stream",
          "name": "stderr",
          "text": [
            "/usr/local/lib/python3.10/dist-packages/sklearn/linear_model/_coordinate_descent.py:631: ConvergenceWarning: Objective did not converge. You might want to increase the number of iterations, check the scale of the features or consider increasing regularisation. Duality gap: 4.066e+04, tolerance: 3.576e+04\n",
            "  model = cd_fast.enet_coordinate_descent(\n"
          ]
        }
      ],
      "source": [
        "from sklearn.linear_model import Lasso, Ridge\n",
        "\n",
        "la = Lasso().fit(X_train, y_train)\n",
        "ri = Ridge().fit(X_train, y_train)\n",
        "\n",
        "la_p = la.predict(X_test)\n",
        "ri_p = ri.predict(X_test)"
      ]
    },
    {
      "cell_type": "code",
      "source": [
        "calculate_metrics(y_test, la_p)"
      ],
      "metadata": {
        "colab": {
          "base_uri": "https://localhost:8080/"
        },
        "id": "yrP3Et8KAkET",
        "outputId": "414f235f-2a88-4317-8856-178acac9d4bc"
      },
      "execution_count": 36,
      "outputs": [
        {
          "output_type": "stream",
          "name": "stdout",
          "text": [
            "MSE:-  21.903824384152742\n",
            "RMSE:-  4.680152175320023\n",
            "R2 Score:-  0.999806427226036\n"
          ]
        }
      ]
    },
    {
      "cell_type": "code",
      "source": [
        "calculate_metrics(y_test, ri_p)"
      ],
      "metadata": {
        "colab": {
          "base_uri": "https://localhost:8080/"
        },
        "id": "uyVHPJk0AzDK",
        "outputId": "c1023c64-9e50-406a-cd4c-2d44b1741c57"
      },
      "execution_count": 37,
      "outputs": [
        {
          "output_type": "stream",
          "name": "stdout",
          "text": [
            "MSE:-  2.6390276231185386e-09\n",
            "RMSE:-  5.137146701349436e-05\n",
            "R2 Score:-  0.9999999999999767\n"
          ]
        }
      ]
    },
    {
      "cell_type": "code",
      "source": [
        "#we will use the other algorithm than this in our website using flask\n",
        "\n",
        "from sklearn.svm import SVR\n",
        "from sklearn.model_selection import GridSearchCV\n",
        "\n",
        "svr = SVR()\n",
        "\n",
        "param_grid = {'C':[0.1, 1,10,100,1000],\n",
        "              'gamma':[1,0.1,0.01,0.001,0.0001],\n",
        "              'kernel': ['rbf']}\n",
        "\n",
        "grid = GridSearchCV(SVR(), param_grid, refit=True, verbose=3)\n",
        "grid.fit(X_train, y_train)"
      ],
      "metadata": {
        "colab": {
          "base_uri": "https://localhost:8080/"
        },
        "id": "ZR-ZlnkuA6-q",
        "outputId": "a473333e-a1db-44af-9a81-9ff61d0c6b53"
      },
      "execution_count": null,
      "outputs": [
        {
          "output_type": "stream",
          "name": "stdout",
          "text": [
            "Fitting 5 folds for each of 25 candidates, totalling 125 fits\n",
            "[CV 1/5] END .......C=0.1, gamma=1, kernel=rbf;, score=-0.116 total time=   1.4s\n",
            "[CV 2/5] END .......C=0.1, gamma=1, kernel=rbf;, score=-0.073 total time=   1.0s\n",
            "[CV 3/5] END .......C=0.1, gamma=1, kernel=rbf;, score=-0.086 total time=   0.8s\n",
            "[CV 4/5] END .......C=0.1, gamma=1, kernel=rbf;, score=-0.100 total time=   0.8s\n",
            "[CV 5/5] END .......C=0.1, gamma=1, kernel=rbf;, score=-0.084 total time=   0.5s\n",
            "[CV 1/5] END .....C=0.1, gamma=0.1, kernel=rbf;, score=-0.116 total time=   0.5s\n",
            "[CV 2/5] END .....C=0.1, gamma=0.1, kernel=rbf;, score=-0.073 total time=   0.4s\n",
            "[CV 3/5] END .....C=0.1, gamma=0.1, kernel=rbf;, score=-0.086 total time=   0.5s\n",
            "[CV 4/5] END .....C=0.1, gamma=0.1, kernel=rbf;, score=-0.100 total time=   0.5s\n",
            "[CV 5/5] END .....C=0.1, gamma=0.1, kernel=rbf;, score=-0.084 total time=   0.5s\n",
            "[CV 1/5] END ....C=0.1, gamma=0.01, kernel=rbf;, score=-0.115 total time=   0.5s\n",
            "[CV 2/5] END ....C=0.1, gamma=0.01, kernel=rbf;, score=-0.073 total time=   0.5s\n",
            "[CV 3/5] END ....C=0.1, gamma=0.01, kernel=rbf;, score=-0.085 total time=   0.5s\n",
            "[CV 4/5] END ....C=0.1, gamma=0.01, kernel=rbf;, score=-0.100 total time=   0.5s\n",
            "[CV 5/5] END ....C=0.1, gamma=0.01, kernel=rbf;, score=-0.084 total time=   0.5s\n",
            "[CV 1/5] END ...C=0.1, gamma=0.001, kernel=rbf;, score=-0.113 total time=   0.6s\n",
            "[CV 2/5] END ...C=0.1, gamma=0.001, kernel=rbf;, score=-0.071 total time=   0.6s\n",
            "[CV 3/5] END ...C=0.1, gamma=0.001, kernel=rbf;, score=-0.083 total time=   0.9s\n",
            "[CV 4/5] END ...C=0.1, gamma=0.001, kernel=rbf;, score=-0.097 total time=   0.9s\n",
            "[CV 5/5] END ...C=0.1, gamma=0.001, kernel=rbf;, score=-0.081 total time=   0.9s\n",
            "[CV 1/5] END ..C=0.1, gamma=0.0001, kernel=rbf;, score=-0.091 total time=   0.6s\n",
            "[CV 2/5] END ..C=0.1, gamma=0.0001, kernel=rbf;, score=-0.048 total time=   0.5s\n",
            "[CV 3/5] END ..C=0.1, gamma=0.0001, kernel=rbf;, score=-0.061 total time=   0.5s\n",
            "[CV 4/5] END ..C=0.1, gamma=0.0001, kernel=rbf;, score=-0.077 total time=   0.5s\n",
            "[CV 5/5] END ..C=0.1, gamma=0.0001, kernel=rbf;, score=-0.059 total time=   0.5s\n",
            "[CV 1/5] END .........C=1, gamma=1, kernel=rbf;, score=-0.115 total time=   0.4s\n",
            "[CV 2/5] END .........C=1, gamma=1, kernel=rbf;, score=-0.074 total time=   0.5s\n",
            "[CV 3/5] END .........C=1, gamma=1, kernel=rbf;, score=-0.086 total time=   0.4s\n",
            "[CV 4/5] END .........C=1, gamma=1, kernel=rbf;, score=-0.100 total time=   0.5s\n",
            "[CV 5/5] END .........C=1, gamma=1, kernel=rbf;, score=-0.084 total time=   0.5s\n",
            "[CV 1/5] END .......C=1, gamma=0.1, kernel=rbf;, score=-0.115 total time=   0.5s\n",
            "[CV 2/5] END .......C=1, gamma=0.1, kernel=rbf;, score=-0.074 total time=   0.5s\n",
            "[CV 3/5] END .......C=1, gamma=0.1, kernel=rbf;, score=-0.085 total time=   0.5s\n",
            "[CV 4/5] END .......C=1, gamma=0.1, kernel=rbf;, score=-0.100 total time=   0.5s\n",
            "[CV 5/5] END .......C=1, gamma=0.1, kernel=rbf;, score=-0.084 total time=   0.5s\n",
            "[CV 1/5] END ......C=1, gamma=0.01, kernel=rbf;, score=-0.114 total time=   0.5s\n",
            "[CV 2/5] END ......C=1, gamma=0.01, kernel=rbf;, score=-0.072 total time=   0.5s\n",
            "[CV 3/5] END ......C=1, gamma=0.01, kernel=rbf;, score=-0.084 total time=   0.5s\n",
            "[CV 4/5] END ......C=1, gamma=0.01, kernel=rbf;, score=-0.099 total time=   0.5s\n",
            "[CV 5/5] END ......C=1, gamma=0.01, kernel=rbf;, score=-0.082 total time=   0.5s\n",
            "[CV 1/5] END .....C=1, gamma=0.001, kernel=rbf;, score=-0.085 total time=   0.7s\n",
            "[CV 2/5] END .....C=1, gamma=0.001, kernel=rbf;, score=-0.044 total time=   0.9s\n",
            "[CV 3/5] END .....C=1, gamma=0.001, kernel=rbf;, score=-0.055 total time=   0.9s\n",
            "[CV 4/5] END .....C=1, gamma=0.001, kernel=rbf;, score=-0.072 total time=   0.7s\n",
            "[CV 5/5] END .....C=1, gamma=0.001, kernel=rbf;, score=-0.054 total time=   0.6s\n",
            "[CV 1/5] END .....C=1, gamma=0.0001, kernel=rbf;, score=0.111 total time=   0.5s\n",
            "[CV 2/5] END .....C=1, gamma=0.0001, kernel=rbf;, score=0.146 total time=   0.5s\n",
            "[CV 3/5] END .....C=1, gamma=0.0001, kernel=rbf;, score=0.141 total time=   0.5s\n",
            "[CV 4/5] END .....C=1, gamma=0.0001, kernel=rbf;, score=0.116 total time=   0.5s\n",
            "[CV 5/5] END .....C=1, gamma=0.0001, kernel=rbf;, score=0.135 total time=   0.5s\n",
            "[CV 1/5] END ........C=10, gamma=1, kernel=rbf;, score=-0.113 total time=   0.5s\n",
            "[CV 2/5] END ........C=10, gamma=1, kernel=rbf;, score=-0.074 total time=   0.6s\n",
            "[CV 3/5] END ........C=10, gamma=1, kernel=rbf;, score=-0.086 total time=   0.5s\n",
            "[CV 4/5] END ........C=10, gamma=1, kernel=rbf;, score=-0.100 total time=   0.7s\n",
            "[CV 5/5] END ........C=10, gamma=1, kernel=rbf;, score=-0.082 total time=   1.1s\n",
            "[CV 1/5] END ......C=10, gamma=0.1, kernel=rbf;, score=-0.111 total time=   0.8s\n",
            "[CV 2/5] END ......C=10, gamma=0.1, kernel=rbf;, score=-0.074 total time=   0.9s\n",
            "[CV 3/5] END ......C=10, gamma=0.1, kernel=rbf;, score=-0.085 total time=   0.8s\n",
            "[CV 4/5] END ......C=10, gamma=0.1, kernel=rbf;, score=-0.099 total time=   0.9s\n",
            "[CV 5/5] END ......C=10, gamma=0.1, kernel=rbf;, score=-0.081 total time=   1.4s\n",
            "[CV 1/5] END .....C=10, gamma=0.01, kernel=rbf;, score=-0.091 total time=   1.6s\n",
            "[CV 2/5] END .....C=10, gamma=0.01, kernel=rbf;, score=-0.050 total time=   0.9s\n",
            "[CV 3/5] END .....C=10, gamma=0.01, kernel=rbf;, score=-0.061 total time=   0.6s\n",
            "[CV 4/5] END .....C=10, gamma=0.01, kernel=rbf;, score=-0.079 total time=   0.5s\n",
            "[CV 5/5] END .....C=10, gamma=0.01, kernel=rbf;, score=-0.059 total time=   0.5s\n",
            "[CV 1/5] END .....C=10, gamma=0.001, kernel=rbf;, score=0.133 total time=   0.6s\n",
            "[CV 2/5] END .....C=10, gamma=0.001, kernel=rbf;, score=0.171 total time=   0.6s\n",
            "[CV 3/5] END .....C=10, gamma=0.001, kernel=rbf;, score=0.165 total time=   0.6s\n",
            "[CV 4/5] END .....C=10, gamma=0.001, kernel=rbf;, score=0.140 total time=   0.6s\n",
            "[CV 5/5] END .....C=10, gamma=0.001, kernel=rbf;, score=0.158 total time=   0.6s\n",
            "[CV 1/5] END ....C=10, gamma=0.0001, kernel=rbf;, score=0.631 total time=   0.6s\n",
            "[CV 2/5] END ....C=10, gamma=0.0001, kernel=rbf;, score=0.645 total time=   0.6s\n",
            "[CV 3/5] END ....C=10, gamma=0.0001, kernel=rbf;, score=0.673 total time=   0.6s\n",
            "[CV 4/5] END ....C=10, gamma=0.0001, kernel=rbf;, score=0.606 total time=   0.6s\n",
            "[CV 5/5] END ....C=10, gamma=0.0001, kernel=rbf;, score=0.612 total time=   0.6s\n",
            "[CV 1/5] END .......C=100, gamma=1, kernel=rbf;, score=-0.075 total time=   0.5s\n",
            "[CV 2/5] END .......C=100, gamma=1, kernel=rbf;, score=-0.042 total time=   0.5s\n",
            "[CV 3/5] END .......C=100, gamma=1, kernel=rbf;, score=-0.053 total time=   0.5s\n",
            "[CV 4/5] END .......C=100, gamma=1, kernel=rbf;, score=-0.061 total time=   0.8s\n",
            "[CV 5/5] END .......C=100, gamma=1, kernel=rbf;, score=-0.046 total time=   1.6s\n",
            "[CV 1/5] END .....C=100, gamma=0.1, kernel=rbf;, score=-0.067 total time=   1.3s\n",
            "[CV 2/5] END .....C=100, gamma=0.1, kernel=rbf;, score=-0.034 total time=   0.9s\n",
            "[CV 3/5] END .....C=100, gamma=0.1, kernel=rbf;, score=-0.041 total time=   1.0s\n",
            "[CV 4/5] END .....C=100, gamma=0.1, kernel=rbf;, score=-0.054 total time=   0.9s\n",
            "[CV 5/5] END .....C=100, gamma=0.1, kernel=rbf;, score=-0.037 total time=   1.2s\n",
            "[CV 1/5] END .....C=100, gamma=0.01, kernel=rbf;, score=0.072 total time=   0.6s\n",
            "[CV 2/5] END .....C=100, gamma=0.01, kernel=rbf;, score=0.103 total time=   0.6s\n",
            "[CV 3/5] END .....C=100, gamma=0.01, kernel=rbf;, score=0.099 total time=   0.6s\n",
            "[CV 4/5] END .....C=100, gamma=0.01, kernel=rbf;, score=0.075 total time=   0.6s\n",
            "[CV 5/5] END .....C=100, gamma=0.01, kernel=rbf;, score=0.101 total time=   0.6s\n",
            "[CV 1/5] END ....C=100, gamma=0.001, kernel=rbf;, score=0.587 total time=   1.3s\n",
            "[CV 2/5] END ....C=100, gamma=0.001, kernel=rbf;, score=0.599 total time=   2.0s\n",
            "[CV 3/5] END ....C=100, gamma=0.001, kernel=rbf;, score=0.630 total time=   4.7s\n",
            "[CV 4/5] END ....C=100, gamma=0.001, kernel=rbf;, score=0.579 total time=   3.8s\n",
            "[CV 5/5] END ....C=100, gamma=0.001, kernel=rbf;, score=0.576 total time=   5.9s\n",
            "[CV 1/5] END ...C=100, gamma=0.0001, kernel=rbf;, score=0.829 total time=   5.8s\n",
            "[CV 2/5] END ...C=100, gamma=0.0001, kernel=rbf;, score=0.831 total time=   4.2s\n",
            "[CV 3/5] END ...C=100, gamma=0.0001, kernel=rbf;, score=0.870 total time=   8.1s\n",
            "[CV 5/5] END ...C=100, gamma=0.0001, kernel=rbf;, score=0.858 total time=   8.1s\n",
            "[CV 1/5] END ......C=1000, gamma=1, kernel=rbf;, score=-0.001 total time=   1.8s\n",
            "[CV 2/5] END .......C=1000, gamma=1, kernel=rbf;, score=0.001 total time=   1.8s\n",
            "[CV 3/5] END .......C=1000, gamma=1, kernel=rbf;, score=0.001 total time=   2.6s\n",
            "[CV 4/5] END ......C=1000, gamma=1, kernel=rbf;, score=-0.000 total time=   1.5s\n",
            "[CV 5/5] END .......C=1000, gamma=1, kernel=rbf;, score=0.000 total time=   1.8s\n",
            "[CV 1/5] END .....C=1000, gamma=0.1, kernel=rbf;, score=0.013 total time=   1.6s\n",
            "[CV 2/5] END .....C=1000, gamma=0.1, kernel=rbf;, score=0.020 total time=   1.5s\n",
            "[CV 3/5] END .....C=1000, gamma=0.1, kernel=rbf;, score=0.025 total time=   1.1s\n",
            "[CV 4/5] END .....C=1000, gamma=0.1, kernel=rbf;, score=0.012 total time=   0.8s\n",
            "[CV 5/5] END .....C=1000, gamma=0.1, kernel=rbf;, score=0.018 total time=   0.8s\n",
            "[CV 1/5] END ....C=1000, gamma=0.01, kernel=rbf;, score=0.230 total time=   1.3s\n",
            "[CV 2/5] END ....C=1000, gamma=0.01, kernel=rbf;, score=0.237 total time=   2.0s\n",
            "[CV 3/5] END ....C=1000, gamma=0.01, kernel=rbf;, score=0.251 total time=   1.9s\n",
            "[CV 4/5] END ....C=1000, gamma=0.01, kernel=rbf;, score=0.219 total time=   2.0s\n",
            "[CV 5/5] END ....C=1000, gamma=0.01, kernel=rbf;, score=0.244 total time=   1.5s\n",
            "[CV 1/5] END ...C=1000, gamma=0.001, kernel=rbf;, score=0.695 total time=  25.6s\n",
            "[CV 2/5] END ...C=1000, gamma=0.001, kernel=rbf;, score=0.711 total time=  33.3s\n",
            "[CV 3/5] END ...C=1000, gamma=0.001, kernel=rbf;, score=0.745 total time=  29.2s\n",
            "[CV 4/5] END ...C=1000, gamma=0.001, kernel=rbf;, score=0.686 total time=  28.2s\n",
            "[CV 5/5] END ...C=1000, gamma=0.001, kernel=rbf;, score=0.719 total time=  16.2s\n",
            "[CV 1/5] END ..C=1000, gamma=0.0001, kernel=rbf;, score=0.876 total time=  57.1s\n",
            "[CV 2/5] END ..C=1000, gamma=0.0001, kernel=rbf;, score=0.878 total time=  59.3s\n"
          ]
        }
      ]
    },
    {
      "cell_type": "code",
      "source": [
        "svr = SVR(C=10, gamma=0.01, kernel='rbf')\n",
        "svr.fit(X_train, y_train)\n",
        "svr_pred = svr.predict(X_test)"
      ],
      "metadata": {
        "id": "yS9-wpn1CIPa"
      },
      "execution_count": null,
      "outputs": []
    },
    {
      "cell_type": "code",
      "source": [
        "import joblib\n",
        "\n",
        "joblib.dumps(ri, 'model.pkl')\n",
        "# model = joblib.load(\"model.pkl\")\n",
        "ridge_form_joblib = model = joblib.load(\"model.pkl\")"
      ],
      "metadata": {
        "id": "a6P4bdOFCXam"
      },
      "execution_count": null,
      "outputs": []
    },
    {
      "cell_type": "markdown",
      "metadata": {
        "id": "LgmcLrGX0Z7o"
      },
      "source": []
    }
  ],
  "metadata": {
    "colab": {
      "provenance": [],
      "authorship_tag": "ABX9TyNSOy7UlZHmuonB5/9EeEei",
      "include_colab_link": true
    },
    "kernelspec": {
      "display_name": "Python 3",
      "name": "python3"
    },
    "language_info": {
      "name": "python"
    }
  },
  "nbformat": 4,
  "nbformat_minor": 0
}